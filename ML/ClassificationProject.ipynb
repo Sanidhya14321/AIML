{
 "cells": [
  {
   "cell_type": "code",
   "execution_count": null,
   "id": "ec7f3c28",
   "metadata": {},
   "outputs": [],
   "source": [
    "import numpy as np \n",
    "import pandas as pd\n",
    "import matplotlib.pyplot as plt\n",
    "import seaborn as sns\n",
    "from sklearn.metrics import accuracy_score\n"
   ]
  }
 ],
 "metadata": {
  "language_info": {
   "name": "python"
  }
 },
 "nbformat": 4,
 "nbformat_minor": 5
}
