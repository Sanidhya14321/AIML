{
 "cells": [
  {
   "cell_type": "code",
   "execution_count": 1,
   "id": "f541d6e3",
   "metadata": {},
   "outputs": [],
   "source": [
    "import pandas as pd\n",
    "\n",
    "df = pd.DataFrame({'A': ['foo', 'bar', 'foo', 'bar', 'foo', 'bar'],\n",
    "                   'B':[1,2,3,4,5,6],\n",
    "                   'C':[2.0, 3.0, 4.0, 5.0, 6.0, 7.0]})\n"
   ]
  },
  {
   "cell_type": "code",
   "execution_count": null,
   "id": "dce15d0c",
   "metadata": {},
   "outputs": [
    {
     "name": "stdout",
     "output_type": "stream",
     "text": [
      "      B    C\n",
      "A           \n",
      "bar  12  5.0\n",
      "foo   9  4.0\n"
     ]
    }
   ],
   "source": [
    "grouped = df.groupby('A').agg({'B': 'sum', 'C': 'mean'})\n",
    "print(grouped)"
   ]
  },
  {
   "cell_type": "code",
   "execution_count": 7,
   "id": "a7fe3186",
   "metadata": {},
   "outputs": [
    {
     "name": "stdout",
     "output_type": "stream",
     "text": [
      "C    2.0  3.0  4.0  5.0  6.0  7.0\n",
      "A                                \n",
      "bar  NaN  2.0  NaN  4.0  NaN  6.0\n",
      "foo  1.0  NaN  3.0  NaN  5.0  NaN\n"
     ]
    }
   ],
   "source": [
    "pivot = df.pivot_table(values= 'B', index='A', aggfunc='sum', columns='C')\n",
    "print(pivot)"
   ]
  },
  {
   "cell_type": "code",
   "execution_count": 9,
   "id": "f7f100ef",
   "metadata": {},
   "outputs": [
    {
     "name": "stdout",
     "output_type": "stream",
     "text": [
      "DatetimeIndex(['2023-01-01', '2023-01-02', '2023-01-03', '2023-01-04',\n",
      "               '2023-01-05', '2023-01-06'],\n",
      "              dtype='datetime64[ns]', freq='D')\n"
     ]
    }
   ],
   "source": [
    "dates = pd.date_range('20230101', periods=6)\n",
    "print(dates)"
   ]
  },
  {
   "cell_type": "code",
   "execution_count": 10,
   "id": "08ee892f",
   "metadata": {},
   "outputs": [
    {
     "name": "stdout",
     "output_type": "stream",
     "text": [
      "2023-01-01    0\n",
      "2023-01-02    1\n",
      "2023-01-03    2\n",
      "2023-01-04    3\n",
      "2023-01-05    4\n",
      "2023-01-06    5\n",
      "Freq: D, dtype: int64\n"
     ]
    }
   ],
   "source": [
    "ts = pd.Series(range(6), index=dates)\n",
    "print(ts)"
   ]
  },
  {
   "cell_type": "code",
   "execution_count": 13,
   "id": "b04c6f18",
   "metadata": {},
   "outputs": [
    {
     "name": "stdout",
     "output_type": "stream",
     "text": [
      "2023-01-01    6\n",
      "2023-01-05    9\n",
      "Freq: 4D, dtype: int64\n"
     ]
    }
   ],
   "source": [
    "resampled = ts.resample('4D').sum()\n",
    "print(resampled)"
   ]
  }
 ],
 "metadata": {
  "kernelspec": {
   "display_name": "Python 3",
   "language": "python",
   "name": "python3"
  },
  "language_info": {
   "codemirror_mode": {
    "name": "ipython",
    "version": 3
   },
   "file_extension": ".py",
   "mimetype": "text/x-python",
   "name": "python",
   "nbconvert_exporter": "python",
   "pygments_lexer": "ipython3",
   "version": "3.13.5"
  }
 },
 "nbformat": 4,
 "nbformat_minor": 5
}
