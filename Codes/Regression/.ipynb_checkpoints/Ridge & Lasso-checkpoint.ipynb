{
 "cells": [
  {
   "cell_type": "code",
   "execution_count": 1,
   "id": "9c222bde",
   "metadata": {},
   "outputs": [],
   "source": [
    "import pandas as pd\n",
    "import numpy as np\n",
    "import matplotlib.pyplot as plt\n",
    "\n",
    "from sklearn.model_selection import train_test_split\n",
    "from sklearn.linear_model import LinearRegression\n",
    "from sklearn.datasets import load_boston\n",
    "from sklearn.metrics import r2_score"
   ]
  },
  {
   "cell_type": "code",
   "execution_count": 2,
   "id": "d2cde2a5",
   "metadata": {},
   "outputs": [],
   "source": [
    "# Load the boston dataset\n",
    "\n",
    "boston = load_boston()\n",
    "data = pd.DataFrame(boston.data, columns=boston.feature_names)\n",
    "target = pd.DataFrame(boston.target, columns=['Price'])\n",
    "df = pd.concat([data,target],axis=1)"
   ]
  },
  {
   "cell_type": "code",
   "execution_count": 10,
   "id": "1ada1214",
   "metadata": {},
   "outputs": [
    {
     "data": {
      "text/html": [
       "<div>\n",
       "<style scoped>\n",
       "    .dataframe tbody tr th:only-of-type {\n",
       "        vertical-align: middle;\n",
       "    }\n",
       "\n",
       "    .dataframe tbody tr th {\n",
       "        vertical-align: top;\n",
       "    }\n",
       "\n",
       "    .dataframe thead th {\n",
       "        text-align: right;\n",
       "    }\n",
       "</style>\n",
       "<table border=\"1\" class=\"dataframe\">\n",
       "  <thead>\n",
       "    <tr style=\"text-align: right;\">\n",
       "      <th></th>\n",
       "      <th>CRIM</th>\n",
       "      <th>ZN</th>\n",
       "      <th>INDUS</th>\n",
       "      <th>CHAS</th>\n",
       "      <th>NOX</th>\n",
       "      <th>RM</th>\n",
       "      <th>AGE</th>\n",
       "      <th>DIS</th>\n",
       "      <th>RAD</th>\n",
       "      <th>TAX</th>\n",
       "      <th>PTRATIO</th>\n",
       "      <th>B</th>\n",
       "      <th>LSTAT</th>\n",
       "      <th>Price</th>\n",
       "    </tr>\n",
       "  </thead>\n",
       "  <tbody>\n",
       "    <tr>\n",
       "      <th>0</th>\n",
       "      <td>0.00632</td>\n",
       "      <td>18.0</td>\n",
       "      <td>2.31</td>\n",
       "      <td>0.0</td>\n",
       "      <td>0.538</td>\n",
       "      <td>6.575</td>\n",
       "      <td>65.2</td>\n",
       "      <td>4.0900</td>\n",
       "      <td>1.0</td>\n",
       "      <td>296.0</td>\n",
       "      <td>15.3</td>\n",
       "      <td>396.90</td>\n",
       "      <td>4.98</td>\n",
       "      <td>24.0</td>\n",
       "    </tr>\n",
       "    <tr>\n",
       "      <th>1</th>\n",
       "      <td>0.02731</td>\n",
       "      <td>0.0</td>\n",
       "      <td>7.07</td>\n",
       "      <td>0.0</td>\n",
       "      <td>0.469</td>\n",
       "      <td>6.421</td>\n",
       "      <td>78.9</td>\n",
       "      <td>4.9671</td>\n",
       "      <td>2.0</td>\n",
       "      <td>242.0</td>\n",
       "      <td>17.8</td>\n",
       "      <td>396.90</td>\n",
       "      <td>9.14</td>\n",
       "      <td>21.6</td>\n",
       "    </tr>\n",
       "    <tr>\n",
       "      <th>2</th>\n",
       "      <td>0.02729</td>\n",
       "      <td>0.0</td>\n",
       "      <td>7.07</td>\n",
       "      <td>0.0</td>\n",
       "      <td>0.469</td>\n",
       "      <td>7.185</td>\n",
       "      <td>61.1</td>\n",
       "      <td>4.9671</td>\n",
       "      <td>2.0</td>\n",
       "      <td>242.0</td>\n",
       "      <td>17.8</td>\n",
       "      <td>392.83</td>\n",
       "      <td>4.03</td>\n",
       "      <td>34.7</td>\n",
       "    </tr>\n",
       "    <tr>\n",
       "      <th>3</th>\n",
       "      <td>0.03237</td>\n",
       "      <td>0.0</td>\n",
       "      <td>2.18</td>\n",
       "      <td>0.0</td>\n",
       "      <td>0.458</td>\n",
       "      <td>6.998</td>\n",
       "      <td>45.8</td>\n",
       "      <td>6.0622</td>\n",
       "      <td>3.0</td>\n",
       "      <td>222.0</td>\n",
       "      <td>18.7</td>\n",
       "      <td>394.63</td>\n",
       "      <td>2.94</td>\n",
       "      <td>33.4</td>\n",
       "    </tr>\n",
       "    <tr>\n",
       "      <th>4</th>\n",
       "      <td>0.06905</td>\n",
       "      <td>0.0</td>\n",
       "      <td>2.18</td>\n",
       "      <td>0.0</td>\n",
       "      <td>0.458</td>\n",
       "      <td>7.147</td>\n",
       "      <td>54.2</td>\n",
       "      <td>6.0622</td>\n",
       "      <td>3.0</td>\n",
       "      <td>222.0</td>\n",
       "      <td>18.7</td>\n",
       "      <td>396.90</td>\n",
       "      <td>5.33</td>\n",
       "      <td>36.2</td>\n",
       "    </tr>\n",
       "  </tbody>\n",
       "</table>\n",
       "</div>"
      ],
      "text/plain": [
       "      CRIM    ZN  INDUS  CHAS    NOX     RM   AGE     DIS  RAD    TAX  \\\n",
       "0  0.00632  18.0   2.31   0.0  0.538  6.575  65.2  4.0900  1.0  296.0   \n",
       "1  0.02731   0.0   7.07   0.0  0.469  6.421  78.9  4.9671  2.0  242.0   \n",
       "2  0.02729   0.0   7.07   0.0  0.469  7.185  61.1  4.9671  2.0  242.0   \n",
       "3  0.03237   0.0   2.18   0.0  0.458  6.998  45.8  6.0622  3.0  222.0   \n",
       "4  0.06905   0.0   2.18   0.0  0.458  7.147  54.2  6.0622  3.0  222.0   \n",
       "\n",
       "   PTRATIO       B  LSTAT  Price  \n",
       "0     15.3  396.90   4.98   24.0  \n",
       "1     17.8  396.90   9.14   21.6  \n",
       "2     17.8  392.83   4.03   34.7  \n",
       "3     18.7  394.63   2.94   33.4  \n",
       "4     18.7  396.90   5.33   36.2  "
      ]
     },
     "execution_count": 10,
     "metadata": {},
     "output_type": "execute_result"
    }
   ],
   "source": [
    "df.head(5)"
   ]
  },
  {
   "cell_type": "code",
   "execution_count": 11,
   "id": "4b704341",
   "metadata": {},
   "outputs": [],
   "source": [
    "df.to_csv('boston.csv')"
   ]
  },
  {
   "cell_type": "code",
   "execution_count": 13,
   "id": "35088885",
   "metadata": {},
   "outputs": [],
   "source": [
    "# Split the data into features and target\n",
    "X = df.drop('Price', axis=1)\n",
    "y = df['Price']"
   ]
  },
  {
   "cell_type": "code",
   "execution_count": 14,
   "id": "b0935c00",
   "metadata": {},
   "outputs": [],
   "source": [
    "# Split the data intro train/test\n",
    "X_train, X_test, y_train, y_test = train_test_split(X,y,test_size=0.2,random_state=0)"
   ]
  },
  {
   "cell_type": "markdown",
   "id": "f644aea2",
   "metadata": {},
   "source": [
    "### Linear Regression"
   ]
  },
  {
   "cell_type": "code",
   "execution_count": 19,
   "id": "9521f5ec",
   "metadata": {},
   "outputs": [
    {
     "data": {
      "text/plain": [
       "LinearRegression()"
      ]
     },
     "execution_count": 19,
     "metadata": {},
     "output_type": "execute_result"
    }
   ],
   "source": [
    "# Apply Linear Regression\n",
    "model = LinearRegression()\n",
    "model.fit(X_train, y_train)"
   ]
  },
  {
   "cell_type": "code",
   "execution_count": 20,
   "id": "b9e42b2a",
   "metadata": {},
   "outputs": [
    {
     "name": "stdout",
     "output_type": "stream",
     "text": [
      "R2 Score of the base model is:  0.5892223849182503\n"
     ]
    }
   ],
   "source": [
    "# Calculate the R2 score\n",
    "y_pred = model.predict(X_test)\n",
    "r2_model = r2_score(y_test, y_pred)\n",
    "print('R2 Score of the base model is: ', r2_model)"
   ]
  },
  {
   "cell_type": "markdown",
   "id": "f39a1d1e",
   "metadata": {},
   "source": [
    "### Ridge & Lasso"
   ]
  },
  {
   "cell_type": "code",
   "execution_count": 22,
   "id": "4479d4f9",
   "metadata": {},
   "outputs": [
    {
     "name": "stdout",
     "output_type": "stream",
     "text": [
      "R2 Score of the ridge model with alpha 1.0 is:  0.5796111714164923\n"
     ]
    }
   ],
   "source": [
    "from sklearn.linear_model import Ridge, Lasso\n",
    "\n",
    "# Apply Ridge Regression\n",
    "ridge_model = Ridge(alpha=1.0)\n",
    "ridge_model.fit(X_train, y_train)\n",
    "y_pred_ridge = ridge_model.predict(X_test)\n",
    "r2_model_ridge = r2_score(y_test, y_pred_ridge)\n",
    "print('R2 Score of the ridge model with alpha 1.0 is: ', r2_model_ridge)"
   ]
  },
  {
   "cell_type": "code",
   "execution_count": 23,
   "id": "45e7a1e3",
   "metadata": {},
   "outputs": [
    {
     "name": "stdout",
     "output_type": "stream",
     "text": [
      "R2 Score of the ridge model with alpha 0.5 is:  0.5836498210820439\n"
     ]
    }
   ],
   "source": [
    "from sklearn.linear_model import Ridge, Lasso\n",
    "\n",
    "# Apply Ridge Regression\n",
    "ridge_model = Ridge(alpha=0.5)\n",
    "ridge_model.fit(X_train, y_train)\n",
    "y_pred_ridge = ridge_model.predict(X_test)\n",
    "r2_model_ridge = r2_score(y_test, y_pred_ridge)\n",
    "print('R2 Score of the ridge model with alpha 0.5 is: ', r2_model_ridge)"
   ]
  },
  {
   "cell_type": "code",
   "execution_count": 24,
   "id": "8c9c89b2",
   "metadata": {},
   "outputs": [
    {
     "name": "stdout",
     "output_type": "stream",
     "text": [
      "R2 Score of the ridge model with alpha 0.3 is:  0.5856952293627944\n"
     ]
    }
   ],
   "source": [
    "from sklearn.linear_model import Ridge, Lasso\n",
    "\n",
    "# Apply Ridge Regression\n",
    "ridge_model = Ridge(alpha=0.3)\n",
    "ridge_model.fit(X_train, y_train)\n",
    "y_pred_ridge = ridge_model.predict(X_test)\n",
    "r2_model_ridge = r2_score(y_test, y_pred_ridge)\n",
    "print('R2 Score of the ridge model with alpha 0.3 is: ', r2_model_ridge)"
   ]
  },
  {
   "cell_type": "code",
   "execution_count": 29,
   "id": "07451fa5",
   "metadata": {},
   "outputs": [
    {
     "name": "stdout",
     "output_type": "stream",
     "text": [
      "R2 Score of the ridge model with alpha 0.1 is:  0.5880003503393505\n"
     ]
    }
   ],
   "source": [
    "from sklearn.linear_model import Ridge, Lasso\n",
    "\n",
    "# Apply Ridge Regression\n",
    "ridge_model = Ridge(alpha=0.1)\n",
    "ridge_model.fit(X_train, y_train)\n",
    "y_pred_ridge = ridge_model.predict(X_test)\n",
    "r2_model_ridge = r2_score(y_test, y_pred_ridge)\n",
    "print('R2 Score of the ridge model with alpha 0.1 is: ', r2_model_ridge)"
   ]
  },
  {
   "cell_type": "code",
   "execution_count": 30,
   "id": "d6e61039",
   "metadata": {},
   "outputs": [
    {
     "name": "stdout",
     "output_type": "stream",
     "text": [
      "R2 Score of the lasso model with alpha 1.0 is:  0.48789271561192604\n"
     ]
    }
   ],
   "source": [
    "from sklearn.linear_model import Ridge, Lasso\n",
    "\n",
    "# Apply Lasso Regression\n",
    "lasso_model = Lasso(alpha=1.0)\n",
    "lasso_model.fit(X_train, y_train)\n",
    "y_pred_lasso = lasso_model.predict(X_test)\n",
    "r2_model_lasso = r2_score(y_test, y_pred_lasso)\n",
    "print('R2 Score of the lasso model with alpha 1.0 is: ', r2_model_lasso)"
   ]
  },
  {
   "cell_type": "code",
   "execution_count": 31,
   "id": "479a7d13",
   "metadata": {},
   "outputs": [
    {
     "data": {
      "text/html": [
       "<div>\n",
       "<style scoped>\n",
       "    .dataframe tbody tr th:only-of-type {\n",
       "        vertical-align: middle;\n",
       "    }\n",
       "\n",
       "    .dataframe tbody tr th {\n",
       "        vertical-align: top;\n",
       "    }\n",
       "\n",
       "    .dataframe thead th {\n",
       "        text-align: right;\n",
       "    }\n",
       "</style>\n",
       "<table border=\"1\" class=\"dataframe\">\n",
       "  <thead>\n",
       "    <tr style=\"text-align: right;\">\n",
       "      <th></th>\n",
       "      <th>CRIM</th>\n",
       "      <th>ZN</th>\n",
       "      <th>INDUS</th>\n",
       "      <th>CHAS</th>\n",
       "      <th>NOX</th>\n",
       "      <th>RM</th>\n",
       "      <th>AGE</th>\n",
       "      <th>DIS</th>\n",
       "      <th>RAD</th>\n",
       "      <th>TAX</th>\n",
       "      <th>PTRATIO</th>\n",
       "      <th>B</th>\n",
       "      <th>LSTAT</th>\n",
       "      <th>Price</th>\n",
       "    </tr>\n",
       "  </thead>\n",
       "  <tbody>\n",
       "    <tr>\n",
       "      <th>0</th>\n",
       "      <td>0.00632</td>\n",
       "      <td>18.0</td>\n",
       "      <td>2.31</td>\n",
       "      <td>0.0</td>\n",
       "      <td>0.538</td>\n",
       "      <td>6.575</td>\n",
       "      <td>65.2</td>\n",
       "      <td>4.0900</td>\n",
       "      <td>1.0</td>\n",
       "      <td>296.0</td>\n",
       "      <td>15.3</td>\n",
       "      <td>396.90</td>\n",
       "      <td>4.98</td>\n",
       "      <td>24.0</td>\n",
       "    </tr>\n",
       "    <tr>\n",
       "      <th>1</th>\n",
       "      <td>0.02731</td>\n",
       "      <td>0.0</td>\n",
       "      <td>7.07</td>\n",
       "      <td>0.0</td>\n",
       "      <td>0.469</td>\n",
       "      <td>6.421</td>\n",
       "      <td>78.9</td>\n",
       "      <td>4.9671</td>\n",
       "      <td>2.0</td>\n",
       "      <td>242.0</td>\n",
       "      <td>17.8</td>\n",
       "      <td>396.90</td>\n",
       "      <td>9.14</td>\n",
       "      <td>21.6</td>\n",
       "    </tr>\n",
       "    <tr>\n",
       "      <th>2</th>\n",
       "      <td>0.02729</td>\n",
       "      <td>0.0</td>\n",
       "      <td>7.07</td>\n",
       "      <td>0.0</td>\n",
       "      <td>0.469</td>\n",
       "      <td>7.185</td>\n",
       "      <td>61.1</td>\n",
       "      <td>4.9671</td>\n",
       "      <td>2.0</td>\n",
       "      <td>242.0</td>\n",
       "      <td>17.8</td>\n",
       "      <td>392.83</td>\n",
       "      <td>4.03</td>\n",
       "      <td>34.7</td>\n",
       "    </tr>\n",
       "    <tr>\n",
       "      <th>3</th>\n",
       "      <td>0.03237</td>\n",
       "      <td>0.0</td>\n",
       "      <td>2.18</td>\n",
       "      <td>0.0</td>\n",
       "      <td>0.458</td>\n",
       "      <td>6.998</td>\n",
       "      <td>45.8</td>\n",
       "      <td>6.0622</td>\n",
       "      <td>3.0</td>\n",
       "      <td>222.0</td>\n",
       "      <td>18.7</td>\n",
       "      <td>394.63</td>\n",
       "      <td>2.94</td>\n",
       "      <td>33.4</td>\n",
       "    </tr>\n",
       "    <tr>\n",
       "      <th>4</th>\n",
       "      <td>0.06905</td>\n",
       "      <td>0.0</td>\n",
       "      <td>2.18</td>\n",
       "      <td>0.0</td>\n",
       "      <td>0.458</td>\n",
       "      <td>7.147</td>\n",
       "      <td>54.2</td>\n",
       "      <td>6.0622</td>\n",
       "      <td>3.0</td>\n",
       "      <td>222.0</td>\n",
       "      <td>18.7</td>\n",
       "      <td>396.90</td>\n",
       "      <td>5.33</td>\n",
       "      <td>36.2</td>\n",
       "    </tr>\n",
       "  </tbody>\n",
       "</table>\n",
       "</div>"
      ],
      "text/plain": [
       "      CRIM    ZN  INDUS  CHAS    NOX     RM   AGE     DIS  RAD    TAX  \\\n",
       "0  0.00632  18.0   2.31   0.0  0.538  6.575  65.2  4.0900  1.0  296.0   \n",
       "1  0.02731   0.0   7.07   0.0  0.469  6.421  78.9  4.9671  2.0  242.0   \n",
       "2  0.02729   0.0   7.07   0.0  0.469  7.185  61.1  4.9671  2.0  242.0   \n",
       "3  0.03237   0.0   2.18   0.0  0.458  6.998  45.8  6.0622  3.0  222.0   \n",
       "4  0.06905   0.0   2.18   0.0  0.458  7.147  54.2  6.0622  3.0  222.0   \n",
       "\n",
       "   PTRATIO       B  LSTAT  Price  \n",
       "0     15.3  396.90   4.98   24.0  \n",
       "1     17.8  396.90   9.14   21.6  \n",
       "2     17.8  392.83   4.03   34.7  \n",
       "3     18.7  394.63   2.94   33.4  \n",
       "4     18.7  396.90   5.33   36.2  "
      ]
     },
     "execution_count": 31,
     "metadata": {},
     "output_type": "execute_result"
    }
   ],
   "source": [
    "df.head(5)"
   ]
  },
  {
   "cell_type": "code",
   "execution_count": 34,
   "id": "55258fc9",
   "metadata": {},
   "outputs": [
    {
     "name": "stdout",
     "output_type": "stream",
     "text": [
      "Features with bad slope results ['INDUS', 'CHAS', 'NOX']\n"
     ]
    }
   ],
   "source": [
    "# Identify the coefficients with bad slope results\n",
    "bad_features = np.where(lasso_model.coef_ ==0)[0]\n",
    "print('Features with bad slope results', list(X.columns[bad_features]))"
   ]
  },
  {
   "cell_type": "code",
   "execution_count": 35,
   "id": "ecfe00e3",
   "metadata": {},
   "outputs": [
    {
     "name": "stdout",
     "output_type": "stream",
     "text": [
      "R2 Score of the new Linear regression model is:  0.5558354547335729\n",
      "R2 Score of the new Lasso regression model is:  0.5542304065052207\n"
     ]
    }
   ],
   "source": [
    "# Remove these features\n",
    "X_train_filtered = X_train.drop(X_train.columns[bad_features],axis=1)\n",
    "X_test_filtered = X_test.drop(X_test.columns[bad_features],axis=1)\n",
    "\n",
    "# Applying the Linear & Lasso Regression on filtered data\n",
    "model_filtered_lr = LinearRegression()\n",
    "model_filtered_lr.fit(X_train_filtered, y_train)\n",
    "\n",
    "model_filtered_lasso = Lasso(alpha=0.1)\n",
    "model_filtered_lasso.fit(X_train_filtered, y_train)\n",
    "\n",
    "y_pred_lrfiltered = model_filtered_lr.predict(X_test_filtered)\n",
    "r2_model_lrfiltered = r2_score(y_test, y_pred_lrfiltered)\n",
    "print('R2 Score of the new Linear regression model is: ', r2_model_lrfiltered)\n",
    "\n",
    "y_pred_lassofiltered = model_filtered_lasso.predict(X_test_filtered)\n",
    "r2_model_lassofiltered = r2_score(y_test, y_pred_lassofiltered)\n",
    "print('R2 Score of the new Lasso regression model is: ', r2_model_lassofiltered)"
   ]
  },
  {
   "cell_type": "code",
   "execution_count": 40,
   "id": "01b27e51",
   "metadata": {},
   "outputs": [],
   "source": [
    "# Identify coefficients with values closer to zero\n",
    "\n",
    "small_coefficients = np.where((lasso_model.coef_ <0.05) & (lasso_model.coef_>-0.05))[0]"
   ]
  },
  {
   "cell_type": "code",
   "execution_count": 41,
   "id": "090dac1b",
   "metadata": {},
   "outputs": [
    {
     "data": {
      "text/plain": [
       "array([ 2,  3,  4,  6,  9, 11], dtype=int64)"
      ]
     },
     "execution_count": 41,
     "metadata": {},
     "output_type": "execute_result"
    }
   ],
   "source": [
    "small_coefficients"
   ]
  },
  {
   "cell_type": "code",
   "execution_count": 42,
   "id": "490100a0",
   "metadata": {},
   "outputs": [
    {
     "name": "stdout",
     "output_type": "stream",
     "text": [
      "Features with very low coefficients:  ['INDUS', 'CHAS', 'NOX', 'AGE', 'TAX', 'B']\n"
     ]
    }
   ],
   "source": [
    "print(\"Features with very low coefficients: \", list(X.columns[small_coefficients]))"
   ]
  },
  {
   "cell_type": "code",
   "execution_count": 45,
   "id": "62ed740d",
   "metadata": {},
   "outputs": [],
   "source": [
    "# Removing the small coefficient features\n",
    "X_train_new = X_train.drop(X_train.columns[small_coefficients],axis=1)\n",
    "X_test_new = X_test.drop(X_test.columns[small_coefficients],axis=1)"
   ]
  },
  {
   "cell_type": "code",
   "execution_count": 47,
   "id": "5f56a7f5",
   "metadata": {},
   "outputs": [
    {
     "name": "stdout",
     "output_type": "stream",
     "text": [
      "R2 Score of the new Lasso regression model is:  0.5163287074198906\n"
     ]
    }
   ],
   "source": [
    "# Apply the Linear Regression\n",
    "model_filtered_small = Lasso(alpha=0.1)\n",
    "model_filtered_small.fit(X_train_new, y_train)\n",
    "\n",
    "y_pred_new = model_filtered_small.predict(X_test_new)\n",
    "r2_model_new = r2_score(y_test, y_pred_new)\n",
    "print('R2 Score of the new Lasso regression model is: ', r2_model_new)"
   ]
  },
  {
   "cell_type": "code",
   "execution_count": 55,
   "id": "f2d915d0",
   "metadata": {},
   "outputs": [
    {
     "name": "stdout",
     "output_type": "stream",
     "text": [
      "Best R2 score: 0.5896890888383526\n",
      "Best column combination: [6]\n"
     ]
    }
   ],
   "source": [
    "from itertools import combinations\n",
    "\n",
    "best_r2_score = 0\n",
    "best_column_combination = None\n",
    "\n",
    "# Iterate through all possible combinations of columns to drop\n",
    "for r in range(1, len(small_coefficients) + 1):\n",
    "    for subset in combinations(small_coefficients, r):\n",
    "        # Create a new X_train with the current subset of columns dropped\n",
    "        X_train_subset = X_train.drop(X_train.columns[list(subset)], axis=1)\n",
    "        X_test_subset = X_test.drop(X_test.columns[list(subset)], axis=1)\n",
    "        \n",
    "        # Apply linear regression on the subset of columns\n",
    "        model_subset = LinearRegression()\n",
    "        model_subset.fit(X_train_subset, y_train)\n",
    "        \n",
    "        # Calculate R2 score for the subset of columns\n",
    "        r2_subset = model_subset.score(X_test_subset, y_test)\n",
    "        \n",
    "        # Update the best R2 score and column combination if a higher score is achieved\n",
    "        if r2_subset > best_r2_score:\n",
    "            best_r2_score = r2_subset\n",
    "            best_column_combination = subset\n",
    "\n",
    "print(\"Best R2 score:\", best_r2_score)\n",
    "print(\"Best column combination:\", list(best_column_combination))"
   ]
  }
 ],
 "metadata": {
  "kernelspec": {
   "display_name": "Python 3",
   "language": "python",
   "name": "python3"
  },
  "language_info": {
   "codemirror_mode": {
    "name": "ipython",
    "version": 3
   },
   "file_extension": ".py",
   "mimetype": "text/x-python",
   "name": "python",
   "nbconvert_exporter": "python",
   "pygments_lexer": "ipython3",
   "version": "3.8.8"
  }
 },
 "nbformat": 4,
 "nbformat_minor": 5
}
