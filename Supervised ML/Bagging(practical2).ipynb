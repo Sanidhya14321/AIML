{
  "cells": [
    {
      "cell_type": "code",
      "execution_count": 20,
      "metadata": {
        "id": "QxUvgsYHi0aV"
      },
      "outputs": [],
      "source": [
        "import pandas as pd\n",
        "import numpy as np\n",
        "import matplotlib.pyplot as plt\n",
        "\n",
        "from sklearn.datasets import make_regression\n",
        "from sklearn.metrics import r2_score, mean_absolute_error, mean_squared_error\n",
        "from sklearn.ensemble import BaggingRegressor, RandomForestRegressor\n",
        "from sklearn.tree import DecisionTreeRegressor\n",
        "from sklearn.svm import SVR\n",
        "from sklearn.model_selection import train_test_split"
      ]
    },
    {
      "cell_type": "code",
      "execution_count": 15,
      "metadata": {
        "id": "oRVuQNyIwvxR"
      },
      "outputs": [],
      "source": [
        "X, y = make_regression(n_samples=10000, n_features=10, n_informative=3)"
      ]
    },
    {
      "cell_type": "code",
      "execution_count": 16,
      "metadata": {
        "id": "p0u6zEi3w-dA"
      },
      "outputs": [],
      "source": [
        "X_train, X_test, y_train, y_test = train_test_split(X, y, test_size=0.2, random_state=42)"
      ]
    },
    {
      "cell_type": "code",
      "execution_count": null,
      "metadata": {
        "id": "BuiUWz8qxlxC"
      },
      "outputs": [],
      "source": [
        "'''\n",
        "from sklearn.preprocessing import StandardScaler\n",
        "\n",
        "sc = StandardScaler()\n",
        "X_train_sc = sc.fit_transform(X_train)\n",
        "X_test_sc = sc.transform(X_test)\n",
        "'''"
      ]
    },
    {
      "cell_type": "code",
      "execution_count": 23,
      "metadata": {
        "colab": {
          "base_uri": "https://localhost:8080/"
        },
        "id": "TB_vbnScxRFh",
        "outputId": "fd0e1f03-d91c-446a-fc4e-0e3a26176701"
      },
      "outputs": [
        {
          "name": "stdout",
          "output_type": "stream",
          "text": [
            "Decision Tree R2-Score:  0.9929727933548429\n",
            "Decision Tree MAE:  6.283649468882851\n",
            "Decision Tree MSE:  72.3250222630294\n",
            "Decision Tree RMSE:  8.504411929288786\n"
          ]
        }
      ],
      "source": [
        "model_dt = DecisionTreeRegressor(random_state=42)\n",
        "model_dt.fit(X_train, y_train)\n",
        "y_pred_dt = model_dt.predict(X_test)\n",
        "\n",
        "print(\"Decision Tree R2-Score: \", r2_score(y_test, y_pred_dt))\n",
        "print(\"Decision Tree MAE: \", mean_absolute_error(y_test, y_pred_dt))\n",
        "print(\"Decision Tree MSE: \", mean_squared_error(y_test, y_pred_dt))\n",
        "print(\"Decision Tree RMSE: \", np.sqrt(mean_squared_error(y_test, y_pred_dt)))"
      ]
    },
    {
      "cell_type": "markdown",
      "metadata": {
        "id": "qTG16ssQyRtN"
      },
      "source": [
        "### **Bagging**"
      ]
    },
    {
      "cell_type": "code",
      "execution_count": 24,
      "metadata": {
        "id": "Zpx85sALx0Ei"
      },
      "outputs": [],
      "source": [
        "bag = BaggingRegressor(base_estimator=DecisionTreeRegressor(),\n",
        "                        n_estimators=500,\n",
        "                        max_samples=0.5,\n",
        "                        bootstrap=True,\n",
        "                        random_state=42,\n",
        "                        )"
      ]
    },
    {
      "cell_type": "code",
      "execution_count": 25,
      "metadata": {
        "colab": {
          "base_uri": "https://localhost:8080/",
          "height": 171
        },
        "id": "yPVhHfTly-I6",
        "outputId": "246a09e8-d69e-48c0-f334-a2e7bd6f3a74"
      },
      "outputs": [
        {
          "name": "stderr",
          "output_type": "stream",
          "text": [
            "/usr/local/lib/python3.10/dist-packages/sklearn/ensemble/_base.py:166: FutureWarning: `base_estimator` was renamed to `estimator` in version 1.2 and will be removed in 1.4.\n",
            "  warnings.warn(\n"
          ]
        },
        {
          "data": {
            "text/html": [
              "<style>#sk-container-id-2 {color: black;background-color: white;}#sk-container-id-2 pre{padding: 0;}#sk-container-id-2 div.sk-toggleable {background-color: white;}#sk-container-id-2 label.sk-toggleable__label {cursor: pointer;display: block;width: 100%;margin-bottom: 0;padding: 0.3em;box-sizing: border-box;text-align: center;}#sk-container-id-2 label.sk-toggleable__label-arrow:before {content: \"▸\";float: left;margin-right: 0.25em;color: #696969;}#sk-container-id-2 label.sk-toggleable__label-arrow:hover:before {color: black;}#sk-container-id-2 div.sk-estimator:hover label.sk-toggleable__label-arrow:before {color: black;}#sk-container-id-2 div.sk-toggleable__content {max-height: 0;max-width: 0;overflow: hidden;text-align: left;background-color: #f0f8ff;}#sk-container-id-2 div.sk-toggleable__content pre {margin: 0.2em;color: black;border-radius: 0.25em;background-color: #f0f8ff;}#sk-container-id-2 input.sk-toggleable__control:checked~div.sk-toggleable__content {max-height: 200px;max-width: 100%;overflow: auto;}#sk-container-id-2 input.sk-toggleable__control:checked~label.sk-toggleable__label-arrow:before {content: \"▾\";}#sk-container-id-2 div.sk-estimator input.sk-toggleable__control:checked~label.sk-toggleable__label {background-color: #d4ebff;}#sk-container-id-2 div.sk-label input.sk-toggleable__control:checked~label.sk-toggleable__label {background-color: #d4ebff;}#sk-container-id-2 input.sk-hidden--visually {border: 0;clip: rect(1px 1px 1px 1px);clip: rect(1px, 1px, 1px, 1px);height: 1px;margin: -1px;overflow: hidden;padding: 0;position: absolute;width: 1px;}#sk-container-id-2 div.sk-estimator {font-family: monospace;background-color: #f0f8ff;border: 1px dotted black;border-radius: 0.25em;box-sizing: border-box;margin-bottom: 0.5em;}#sk-container-id-2 div.sk-estimator:hover {background-color: #d4ebff;}#sk-container-id-2 div.sk-parallel-item::after {content: \"\";width: 100%;border-bottom: 1px solid gray;flex-grow: 1;}#sk-container-id-2 div.sk-label:hover label.sk-toggleable__label {background-color: #d4ebff;}#sk-container-id-2 div.sk-serial::before {content: \"\";position: absolute;border-left: 1px solid gray;box-sizing: border-box;top: 0;bottom: 0;left: 50%;z-index: 0;}#sk-container-id-2 div.sk-serial {display: flex;flex-direction: column;align-items: center;background-color: white;padding-right: 0.2em;padding-left: 0.2em;position: relative;}#sk-container-id-2 div.sk-item {position: relative;z-index: 1;}#sk-container-id-2 div.sk-parallel {display: flex;align-items: stretch;justify-content: center;background-color: white;position: relative;}#sk-container-id-2 div.sk-item::before, #sk-container-id-2 div.sk-parallel-item::before {content: \"\";position: absolute;border-left: 1px solid gray;box-sizing: border-box;top: 0;bottom: 0;left: 50%;z-index: -1;}#sk-container-id-2 div.sk-parallel-item {display: flex;flex-direction: column;z-index: 1;position: relative;background-color: white;}#sk-container-id-2 div.sk-parallel-item:first-child::after {align-self: flex-end;width: 50%;}#sk-container-id-2 div.sk-parallel-item:last-child::after {align-self: flex-start;width: 50%;}#sk-container-id-2 div.sk-parallel-item:only-child::after {width: 0;}#sk-container-id-2 div.sk-dashed-wrapped {border: 1px dashed gray;margin: 0 0.4em 0.5em 0.4em;box-sizing: border-box;padding-bottom: 0.4em;background-color: white;}#sk-container-id-2 div.sk-label label {font-family: monospace;font-weight: bold;display: inline-block;line-height: 1.2em;}#sk-container-id-2 div.sk-label-container {text-align: center;}#sk-container-id-2 div.sk-container {/* jupyter's `normalize.less` sets `[hidden] { display: none; }` but bootstrap.min.css set `[hidden] { display: none !important; }` so we also need the `!important` here to be able to override the default hidden behavior on the sphinx rendered scikit-learn.org. See: https://github.com/scikit-learn/scikit-learn/issues/21755 */display: inline-block !important;position: relative;}#sk-container-id-2 div.sk-text-repr-fallback {display: none;}</style><div id=\"sk-container-id-2\" class=\"sk-top-container\"><div class=\"sk-text-repr-fallback\"><pre>BaggingRegressor(base_estimator=DecisionTreeRegressor(), max_samples=0.5,\n",
              "                 n_estimators=500, random_state=42)</pre><b>In a Jupyter environment, please rerun this cell to show the HTML representation or trust the notebook. <br />On GitHub, the HTML representation is unable to render, please try loading this page with nbviewer.org.</b></div><div class=\"sk-container\" hidden><div class=\"sk-item sk-dashed-wrapped\"><div class=\"sk-label-container\"><div class=\"sk-label sk-toggleable\"><input class=\"sk-toggleable__control sk-hidden--visually\" id=\"sk-estimator-id-4\" type=\"checkbox\" ><label for=\"sk-estimator-id-4\" class=\"sk-toggleable__label sk-toggleable__label-arrow\">BaggingRegressor</label><div class=\"sk-toggleable__content\"><pre>BaggingRegressor(base_estimator=DecisionTreeRegressor(), max_samples=0.5,\n",
              "                 n_estimators=500, random_state=42)</pre></div></div></div><div class=\"sk-parallel\"><div class=\"sk-parallel-item\"><div class=\"sk-item\"><div class=\"sk-label-container\"><div class=\"sk-label sk-toggleable\"><input class=\"sk-toggleable__control sk-hidden--visually\" id=\"sk-estimator-id-5\" type=\"checkbox\" ><label for=\"sk-estimator-id-5\" class=\"sk-toggleable__label sk-toggleable__label-arrow\">base_estimator: DecisionTreeRegressor</label><div class=\"sk-toggleable__content\"><pre>DecisionTreeRegressor()</pre></div></div></div><div class=\"sk-serial\"><div class=\"sk-item\"><div class=\"sk-estimator sk-toggleable\"><input class=\"sk-toggleable__control sk-hidden--visually\" id=\"sk-estimator-id-6\" type=\"checkbox\" ><label for=\"sk-estimator-id-6\" class=\"sk-toggleable__label sk-toggleable__label-arrow\">DecisionTreeRegressor</label><div class=\"sk-toggleable__content\"><pre>DecisionTreeRegressor()</pre></div></div></div></div></div></div></div></div></div></div>"
            ],
            "text/plain": [
              "BaggingRegressor(base_estimator=DecisionTreeRegressor(), max_samples=0.5,\n",
              "                 n_estimators=500, random_state=42)"
            ]
          },
          "execution_count": 25,
          "metadata": {},
          "output_type": "execute_result"
        }
      ],
      "source": [
        "bag.fit(X_train, y_train)"
      ]
    },
    {
      "cell_type": "code",
      "execution_count": 26,
      "metadata": {
        "id": "N-6gPGkx0gWw"
      },
      "outputs": [],
      "source": [
        "y_pred_bag = bag.predict(X_test)"
      ]
    },
    {
      "cell_type": "code",
      "execution_count": 27,
      "metadata": {
        "colab": {
          "base_uri": "https://localhost:8080/"
        },
        "id": "2ySVFJsu0z1J",
        "outputId": "87cdd1bf-1704-4fa6-c253-b6cdd4ffad12"
      },
      "outputs": [
        {
          "name": "stdout",
          "output_type": "stream",
          "text": [
            "Bagged Tree R2-Score:  0.99745830018062\n",
            "Bagged Tree MAE:  3.2638910073880316\n",
            "Bagged Tree MSE:  26.159540384269384\n",
            "Bagged Tree RMSE:  5.114639809827216\n"
          ]
        }
      ],
      "source": [
        "print(\"Bagged Tree R2-Score: \", r2_score(y_test, y_pred_bag))\n",
        "print(\"Bagged Tree MAE: \", mean_absolute_error(y_test, y_pred_bag))\n",
        "print(\"Bagged Tree MSE: \", mean_squared_error(y_test, y_pred_bag))\n",
        "print(\"Bagged Tree RMSE: \", np.sqrt(mean_squared_error(y_test, y_pred_bag)))"
      ]
    },
    {
      "cell_type": "markdown",
      "metadata": {
        "id": "aykYx-Qs1Bnn"
      },
      "source": [
        "### **Random Forest**"
      ]
    },
    {
      "cell_type": "code",
      "execution_count": 28,
      "metadata": {
        "colab": {
          "base_uri": "https://localhost:8080/"
        },
        "id": "RP4BJrih1BO9",
        "outputId": "7be8cb99-2370-48d5-d40f-35d0699ce805"
      },
      "outputs": [
        {
          "name": "stdout",
          "output_type": "stream",
          "text": [
            "RF R2-Score:  0.9979141823516834\n",
            "RF MAE:  2.964903097636463\n",
            "RF MSE:  21.467535461630444\n",
            "RF RMSE:  4.633307184035011\n"
          ]
        }
      ],
      "source": [
        "model_rf = RandomForestRegressor(random_state=42, n_estimators=500)\n",
        "model_rf.fit(X_train, y_train)\n",
        "y_pred_rf = model_rf.predict(X_test)\n",
        "\n",
        "print(\"RF R2-Score: \", r2_score(y_test, y_pred_rf))\n",
        "print(\"RF MAE: \", mean_absolute_error(y_test, y_pred_rf))\n",
        "print(\"RF MSE: \", mean_squared_error(y_test, y_pred_rf))\n",
        "print(\"RF RMSE: \", np.sqrt(mean_squared_error(y_test, y_pred_rf)))"
      ]
    },
    {
      "cell_type": "markdown",
      "metadata": {
        "id": "gfZJrYb-1lF6"
      },
      "source": [
        "### **Bagging using SVM**"
      ]
    },
    {
      "cell_type": "code",
      "execution_count": 29,
      "metadata": {
        "id": "m1hYL5Cj07-K"
      },
      "outputs": [],
      "source": [
        "bag_svm = BaggingRegressor(base_estimator=SVR(),\n",
        "                        n_estimators=500,\n",
        "                        max_samples=0.25,\n",
        "                        bootstrap=True,\n",
        "                        random_state=42,\n",
        "                        )"
      ]
    },
    {
      "cell_type": "code",
      "execution_count": 30,
      "metadata": {
        "colab": {
          "base_uri": "https://localhost:8080/"
        },
        "id": "dBUrUUNv1uWp",
        "outputId": "282fdf15-8654-4b19-f3cb-fdfa162588a3"
      },
      "outputs": [
        {
          "name": "stderr",
          "output_type": "stream",
          "text": [
            "/usr/local/lib/python3.10/dist-packages/sklearn/ensemble/_base.py:166: FutureWarning: `base_estimator` was renamed to `estimator` in version 1.2 and will be removed in 1.4.\n",
            "  warnings.warn(\n"
          ]
        },
        {
          "name": "stdout",
          "output_type": "stream",
          "text": [
            "BR (SVR) R2-Score:  0.6752840698785681\n",
            "BR (SVR) MAE:  41.4348620720922\n",
            "BR (SVR) MSE:  3342.023091263138\n",
            "BR (SVR) RMSE:  57.810233447575165\n"
          ]
        }
      ],
      "source": [
        "bag_svm.fit(X_train, y_train)\n",
        "y_pred_bagsvm = bag_svm.predict(X_test)\n",
        "\n",
        "print(\"BR (SVR) R2-Score: \", r2_score(y_test, y_pred_bagsvm))\n",
        "print(\"BR (SVR) MAE: \", mean_absolute_error(y_test, y_pred_bagsvm))\n",
        "print(\"BR (SVR) MSE: \", mean_squared_error(y_test, y_pred_bagsvm))\n",
        "print(\"BR (SVR) RMSE: \", np.sqrt(mean_squared_error(y_test, y_pred_bagsvm)))"
      ]
    },
    {
      "cell_type": "markdown",
      "metadata": {
        "id": "gU_PxnM81_TQ"
      },
      "source": [
        "### **Pasting**"
      ]
    },
    {
      "cell_type": "code",
      "execution_count": 31,
      "metadata": {
        "id": "HOFd5Dl113BJ"
      },
      "outputs": [],
      "source": [
        "pasting = BaggingRegressor(base_estimator=DecisionTreeRegressor(),\n",
        "                        n_estimators=500,\n",
        "                        max_samples=0.25,\n",
        "                        bootstrap=False,\n",
        "                        random_state=42,\n",
        "                        )"
      ]
    },
    {
      "cell_type": "code",
      "execution_count": 32,
      "metadata": {
        "colab": {
          "base_uri": "https://localhost:8080/"
        },
        "id": "a2r7ojlk2eea",
        "outputId": "db4c245c-7972-4e54-a1fa-9ac2528d1016"
      },
      "outputs": [
        {
          "name": "stderr",
          "output_type": "stream",
          "text": [
            "/usr/local/lib/python3.10/dist-packages/sklearn/ensemble/_base.py:166: FutureWarning: `base_estimator` was renamed to `estimator` in version 1.2 and will be removed in 1.4.\n",
            "  warnings.warn(\n"
          ]
        },
        {
          "name": "stdout",
          "output_type": "stream",
          "text": [
            "Pasting R2-Score:  0.9966829682329803\n",
            "Pasting MAE:  3.7799551172311303\n",
            "Pasting MSE:  34.139368387893875\n",
            "Pasting RMSE:  5.84289041381865\n"
          ]
        }
      ],
      "source": [
        "pasting.fit(X_train, y_train)\n",
        "y_pred_pasting = pasting.predict(X_test)\n",
        "\n",
        "print(\"Pasting R2-Score: \", r2_score(y_test, y_pred_pasting))\n",
        "print(\"Pasting MAE: \", mean_absolute_error(y_test, y_pred_pasting))\n",
        "print(\"Pasting MSE: \", mean_squared_error(y_test, y_pred_pasting))\n",
        "print(\"Pasting RMSE: \", np.sqrt(mean_squared_error(y_test, y_pred_pasting)))"
      ]
    },
    {
      "cell_type": "markdown",
      "metadata": {
        "id": "Dyk5F6dv2sT-"
      },
      "source": [
        "Takeaways:\n",
        "\n",
        "- Random Forest is better than Bagged models, and further Bagged models are better than Pasting\n",
        "- Good results come around 25% to 50% row sampling\n",
        "- In order to find the best parameters, we need to do hyper parameter optimization"
      ]
    },
    {
      "cell_type": "code",
      "execution_count": null,
      "metadata": {
        "id": "XHG0BE5s2j1y"
      },
      "outputs": [],
      "source": []
    }
  ],
  "metadata": {
    "colab": {
      "provenance": []
    },
    "kernelspec": {
      "display_name": "Python 3",
      "name": "python3"
    },
    "language_info": {
      "name": "python",
      "version": "3.13.5"
    }
  },
  "nbformat": 4,
  "nbformat_minor": 0
}
